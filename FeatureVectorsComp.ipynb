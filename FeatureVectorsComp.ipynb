{
  "nbformat": 4,
  "nbformat_minor": 0,
  "metadata": {
    "kernelspec": {
      "display_name": "Python 3",
      "language": "python",
      "name": "python3"
    },
    "language_info": {
      "codemirror_mode": {
        "name": "ipython",
        "version": 3
      },
      "file_extension": ".py",
      "mimetype": "text/x-python",
      "name": "python",
      "nbconvert_exporter": "python",
      "pygments_lexer": "ipython3",
      "version": "3.7.3"
    },
    "colab": {
      "name": "FeatureVectorsComp.ipynb",
      "provenance": [],
      "include_colab_link": true
    }
  },
  "cells": [
    {
      "cell_type": "markdown",
      "metadata": {
        "id": "view-in-github",
        "colab_type": "text"
      },
      "source": [
        "<a href=\"https://colab.research.google.com/github/gabilodeau/INF6804/blob/master/FeatureVectorsComp.ipynb\" target=\"_parent\"><img src=\"https://colab.research.google.com/assets/colab-badge.svg\" alt=\"Open In Colab\"/></a>"
      ]
    },
    {
      "cell_type": "markdown",
      "metadata": {
        "id": "R6DtgpkIplle"
      },
      "source": [
        "INF6804 Vision par ordinateur\n",
        "\n",
        "Polytechnique Montréal\n",
        "\n",
        "Distances entre histogrammes (L1, L2, MDPA, Bhattacharyya)"
      ]
    },
    {
      "cell_type": "code",
      "metadata": {
        "id": "1VmYmJnrpllg"
      },
      "source": [
        "import numpy as np\n",
        "import cv2\n",
        "import matplotlib.pyplot as plt\n",
        "from sklearn.metrics.pairwise import cosine_similarity"
      ],
      "execution_count": 1,
      "outputs": []
    },
    {
      "cell_type": "markdown",
      "metadata": {
        "id": "w96eD-Fwpllk"
      },
      "source": [
        "Fonction pour calculer la distance MDPA"
      ]
    },
    {
      "cell_type": "code",
      "metadata": {
        "id": "0hvIMc89pllm"
      },
      "source": [
        "def distMDPA(V1, V2):\n",
        "    Dist=0;\n",
        "    for i in range(0,len(V1)):\n",
        "        dint=0;\n",
        "        for j in range(0,i+1):\n",
        "            dint=dint+V1[j]-V2[j]\n",
        "        Dist=Dist+abs(dint)\n",
        "    return Dist;"
      ],
      "execution_count": 2,
      "outputs": []
    },
    {
      "cell_type": "markdown",
      "metadata": {
        "id": "fJ1mwIlUpllp"
      },
      "source": [
        "Création de 5 vecteurs. On comparera avec Vecteur1 comme base."
      ]
    },
    {
      "cell_type": "code",
      "metadata": {
        "id": "aH2vHn6Wpllq"
      },
      "source": [
        "Vecteur1 = np.array([3.0, 4.0, 3.0, 1.0, 6.0])\n",
        "Vecteur2 = np.array([2.0, 5.0, 3.0, 1.0, 6.0])\n",
        "Vecteur3 = np.array([2.0, 4.0, 3.0, 1.0, 7.0])\n",
        "Vecteur4 = np.array([1.0, 5.0, 4.0, 1.0, 6.0])\n",
        "Vecteur5 = np.array([3.0, 5.0, 2.0, 2.0, 5.0])"
      ],
      "execution_count": 3,
      "outputs": []
    },
    {
      "cell_type": "markdown",
      "metadata": {
        "id": "eRf9N92Hplls"
      },
      "source": [
        "Distance ou norme L1. Les résultats seront affichés sur un graphique."
      ]
    },
    {
      "cell_type": "code",
      "metadata": {
        "id": "tCAFv61jplls"
      },
      "source": [
        "dist1 = cv2.norm(Vecteur1, Vecteur2, cv2.NORM_L1)\n",
        "dist2 = cv2.norm(Vecteur1, Vecteur3, cv2.NORM_L1)\n",
        "dist3 = cv2.norm(Vecteur1, Vecteur4, cv2.NORM_L1)\n",
        "dist4 = cv2.norm(Vecteur1, Vecteur5, cv2.NORM_L1)\n",
        "#Pour affichage...\n",
        "x = [0, 0.1, 0.2, 0.3]\n",
        "color = ['r','g','b','k']\n",
        "dist = [dist1, dist2, dist3, dist4]"
      ],
      "execution_count": 4,
      "outputs": []
    },
    {
      "cell_type": "markdown",
      "metadata": {
        "id": "ackGP2J7pllu"
      },
      "source": [
        "Distance ou norme L2."
      ]
    },
    {
      "cell_type": "code",
      "metadata": {
        "id": "w3nhc0k8pllv"
      },
      "source": [
        "dist1 = cv2.norm(Vecteur1, Vecteur2, cv2.NORM_L2)\n",
        "dist2 = cv2.norm(Vecteur1, Vecteur3, cv2.NORM_L2)\n",
        "dist3 = cv2.norm(Vecteur1, Vecteur4, cv2.NORM_L2)\n",
        "dist4 = cv2.norm(Vecteur1, Vecteur5, cv2.NORM_L2)\n",
        "x = x + [1, 1.1, 1.2, 1.3]\n",
        "dist = dist + [dist1, dist2, dist3, dist4]\n",
        "color = color + ['r','g','b','k']"
      ],
      "execution_count": 5,
      "outputs": []
    },
    {
      "cell_type": "markdown",
      "metadata": {
        "id": "Eih8hrBxpllw"
      },
      "source": [
        "Distance MDPA (Maximum distance of pair assignments)."
      ]
    },
    {
      "cell_type": "code",
      "metadata": {
        "id": "-dxNHiXvpllw"
      },
      "source": [
        "dist1 = distMDPA(Vecteur1, Vecteur2)\n",
        "dist2 = distMDPA(Vecteur1, Vecteur3)\n",
        "dist3 = distMDPA(Vecteur1, Vecteur4)\n",
        "dist4 = distMDPA(Vecteur1, Vecteur5)\n",
        "x = x + [2, 2.1, 2.2, 2.3]\n",
        "dist = dist + [dist1, dist2, dist3, dist4]\n",
        "color = color + ['r','g','b','k']"
      ],
      "execution_count": 6,
      "outputs": []
    },
    {
      "cell_type": "markdown",
      "metadata": {
        "id": "qlA8Ualeplly"
      },
      "source": [
        "Distance de Bhattacharyya avec les valeurs normalisées entre 0 et 1. "
      ]
    },
    {
      "cell_type": "code",
      "metadata": {
        "id": "Eyhrjyqwplly"
      },
      "source": [
        "Vecteur1 = Vecteur1/np.sum(Vecteur1)\n",
        "Vecteur2 = Vecteur2/np.sum(Vecteur2)\n",
        "Vecteur3 = Vecteur3/np.sum(Vecteur3)\n",
        "Vecteur4 = Vecteur4/np.sum(Vecteur3)\n",
        "dist1 = cv2.compareHist(Vecteur1.transpose().astype('float32'), Vecteur2.transpose().astype('float32'), cv2.HISTCMP_BHATTACHARYYA) \n",
        "dist2 = cv2.compareHist(Vecteur1.transpose().astype('float32'), Vecteur3.transpose().astype('float32'), cv2.HISTCMP_BHATTACHARYYA) \n",
        "dist3 = cv2.compareHist(Vecteur1.transpose().astype('float32'), Vecteur4.transpose().astype('float32'), cv2.HISTCMP_BHATTACHARYYA)\n",
        "dist4 = cv2.compareHist(Vecteur1.transpose().astype('float32'), Vecteur5.transpose().astype('float32'), cv2.HISTCMP_BHATTACHARYYA) \n",
        "x = x + [3, 3.1, 3.2, 3.3]\n",
        "dist = dist + [dist1, dist2, dist3, dist4]\n",
        "color = color + ['r','g','b', 'k']\n",
        "\n",
        "\n"
      ],
      "execution_count": 7,
      "outputs": []
    },
    {
      "cell_type": "markdown",
      "metadata": {
        "id": "8C666Y9dnA_M"
      },
      "source": [
        "Similarité cosinus."
      ]
    },
    {
      "cell_type": "code",
      "metadata": {
        "id": "S-4X2Msnm0Om"
      },
      "source": [
        "dist1 = cosine_similarity(Vecteur1.reshape(1, -1), Vecteur2.reshape(1, -1)) \n",
        "dist2 = cosine_similarity(Vecteur1.reshape(1, -1), Vecteur3.reshape(1, -1)) \n",
        "dist3 = cosine_similarity(Vecteur1.reshape(1, -1), Vecteur4.reshape(1, -1))\n",
        "dist4 = cosine_similarity(Vecteur1.reshape(1, -1), Vecteur5.reshape(1, -1)) \n",
        "\n",
        "x = x + [4, 4.1, 4.2, 4.3]\n",
        "dist = dist + [dist1, dist2, dist3, dist4]\n",
        "color = color + ['r','g','b', 'k']"
      ],
      "execution_count": 8,
      "outputs": []
    },
    {
      "cell_type": "markdown",
      "metadata": {
        "id": "N_DTr_yHm1w5"
      },
      "source": [
        "Affichage des distances."
      ]
    },
    {
      "cell_type": "code",
      "metadata": {
        "id": "gWXsnmEcpll1",
        "colab": {
          "base_uri": "https://localhost:8080/",
          "height": 320
        },
        "outputId": "ab50ed2f-66e5-4fa2-9505-7e26ccd0e24f"
      },
      "source": [
        "plt.scatter(x, dist, c = color)\n",
        "plt.text(0,0, 'Distance L1')\n",
        "plt.text(0.8,1, 'Distance L2')\n",
        "plt.text(1.6,0, 'Distance MDPA')\n",
        "plt.text(2.6,0.5, 'Bhattacharyya')\n",
        "plt.text(3.8,0.3, 'Similarité\\n cosinus')\n",
        "plt.show()"
      ],
      "execution_count": 9,
      "outputs": [
        {
          "output_type": "stream",
          "name": "stderr",
          "text": [
            "/usr/local/lib/python3.7/dist-packages/numpy/ma/core.py:2832: VisibleDeprecationWarning: Creating an ndarray from ragged nested sequences (which is a list-or-tuple of lists-or-tuples-or ndarrays with different lengths or shapes) is deprecated. If you meant to do this, you must specify 'dtype=object' when creating the ndarray\n",
            "  order=order, subok=True, ndmin=ndmin)\n"
          ]
        },
        {
          "output_type": "display_data",
          "data": {
            "image/png": "[encoded data removed]",
            "text/plain": [
              "<Figure size 432x288 with 1 Axes>"
            ]
          },
          "metadata": {
            "needs_background": "light"
          }
        }
      ]
    }
  ]
}